trained_checkpoint_prefix = 'east_icdar2015_resnet_v1_50_rbox/model.ckpt-49491'
export_dir = os.path.join('export_dir', '1')

graph = tf.Graph()

with tf.compat.v1.Session(graph=graph) as sess:
    # Restore from checkpoint
    loader = tf.compat.v1.train.import_meta_graph(trained_checkpoint_prefix + '.meta')
    loader.restore(sess, trained_checkpoint_prefix)
    # Export checkpoint to SavedModel
    
    builder = tf.saved_model.builder.SavedModelBuilder(export_dir)
    builder.add_meta_graph_and_variables(sess,
                                         [tf.saved_model.TRAINING, tf.saved_model.SERVING],
                                         strip_default_attrs=True)    
    builder.save() 
